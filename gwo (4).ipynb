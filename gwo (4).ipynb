{
  "cells": [
    {
      "cell_type": "code",
      "source": [
        "import os\n",
        "import cv2\n",
        "import numpy as np\n",
        "import tensorflow as tf\n",
        "from tensorflow.keras.utils import to_categorical\n",
        "from tensorflow.keras.models import Sequential\n",
        "from tensorflow.keras.layers import Conv2D, MaxPooling2D, Flatten, Dense, Dropout\n",
        "from tensorflow.keras.optimizers import Adam\n",
        "from tensorflow.keras.callbacks import EarlyStopping\n",
        "from sklearn.metrics import accuracy_score, confusion_matrix\n",
        "import matplotlib.pyplot as plt\n",
        "from tensorflow.keras.applications import VGG16\n",
        "from tensorflow.keras.layers import Dense, GlobalAveragePooling2D\n",
        "from tensorflow.keras.models import Model\n",
        "from tensorflow.keras.preprocessing.image import ImageDataGenerator"
      ],
      "metadata": {
        "id": "6vQSeY7ydu-g"
      },
      "execution_count": null,
      "outputs": []
    },
    {
      "cell_type": "code",
      "source": [
        "\n",
        "# Data preprocessing\n",
        "train_path = '/content/drive/MyDrive/project file/archive (6)/Training'\n",
        "test_path = '/content/drive/MyDrive/project file/archive (6)/Testing'\n",
        "\n",
        "def load_data(data_path):\n",
        "    data = []\n",
        "    labels = []\n",
        "    class_names = sorted(os.listdir(data_path))\n",
        "    for class_index, class_name in enumerate(class_names):\n",
        "        class_dir = os.path.join(data_path, class_name)\n",
        "        for img_name in os.listdir(class_dir):\n",
        "            img_path = os.path.join(class_dir, img_name)\n",
        "            img = cv2.imread(img_path, cv2.IMREAD_COLOR)\n",
        "            img = cv2.resize(img, (64, 64))\n",
        "            data.append(img)\n",
        "            labels.append(class_index)\n",
        "    return np.array(data), np.array(labels)\n",
        "\n",
        "X_train, y_train = load_data(train_path)\n",
        "X_test, y_test = load_data(test_path)\n",
        "\n",
        "# Normalize pixel values\n",
        "X_train = X_train.astype('float32') / 255.0\n",
        "X_test = X_test.astype('float32') / 255.0\n",
        "\n",
        "# Convert labels to categorical\n",
        "num_classes = len(np.unique(y_train))\n",
        "y_train = to_categorical(y_train, num_classes=num_classes)\n",
        "y_test = to_categorical(y_test, num_classes=num_classes)"
      ],
      "metadata": {
        "id": "eu8munP0dvBi"
      },
      "execution_count": null,
      "outputs": []
    },
    {
      "cell_type": "code",
      "source": [
        "def create_model(learning_rate, num_filters, dense_units, dropout_rate):\n",
        "    model = Sequential()\n",
        "    model.add(Conv2D(int(num_filters), (3, 3), activation='relu', input_shape=(64, 64, 3)))\n",
        "    model.add(MaxPooling2D((2, 2)))\n",
        "    model.add(Flatten())\n",
        "    model.add(Dense(int(dense_units), activation='relu'))\n",
        "    model.add(Dropout(dropout_rate))\n",
        "    model.add(Dense(num_classes, activation='softmax'))\n",
        "\n",
        "    optimizer = Adam(learning_rate=learning_rate)\n",
        "    model.compile(optimizer=optimizer, loss='categorical_crossentropy', metrics=['accuracy'])\n",
        "\n",
        "    return model"
      ],
      "metadata": {
        "id": "PcJLTSNVdvEk"
      },
      "execution_count": null,
      "outputs": []
    },
    {
      "cell_type": "code",
      "source": [
        "\n",
        "def fitness_function(params):\n",
        "    learning_rate, num_filters, dense_units, dropout_rate, batch_size = params\n",
        "\n",
        "    model = create_model(learning_rate, num_filters, dense_units, dropout_rate)\n",
        "\n",
        "    history = model.fit(\n",
        "        X_train, y_train,\n",
        "        epochs=5,\n",
        "        batch_size=int(batch_size),\n",
        "        validation_data=(X_test, y_test),\n",
        "        verbose=0\n",
        "    )\n",
        "\n",
        "    val_loss, val_accuracy = model.evaluate(X_test, y_test, verbose=0)\n",
        "\n",
        "    return val_loss\n"
      ],
      "metadata": {
        "id": "pH2ANMLFdvIC"
      },
      "execution_count": null,
      "outputs": []
    },
    {
      "cell_type": "code",
      "source": [
        "# Define the GreyWolfOptimizer class\n",
        "class GreyWolfOptimizer:\n",
        "    def __init__(self, fitness_function, num_wolves=5, num_iterations=20, dim=5, lb=[0.0001, 16, 16, 0.1, 16], ub=[0.1, 128, 256, 0.5, 128]):\n",
        "        self.fitness_function = fitness_function\n",
        "        self.num_wolves = num_wolves\n",
        "        self.num_iterations = num_iterations\n",
        "        self.dim = dim\n",
        "        self.lb = np.array(lb)\n",
        "        self.ub = np.array(ub)\n",
        "        self.alpha_pos = np.zeros(dim)\n",
        "        self.alpha_score = float(\"inf\")\n",
        "        self.beta_pos = np.zeros(dim)\n",
        "        self.beta_score = float(\"inf\")\n",
        "        self.delta_pos = np.zeros(dim)\n",
        "        self.delta_score = float(\"inf\")\n",
        "        self.wolves = np.random.uniform(0, 1, (num_wolves, dim)) * (self.ub - self.lb) + self.lb\n",
        "\n",
        "    def optimize(self):\n",
        "        for t in range(self.num_iterations):\n",
        "            for i in range(self.num_wolves):\n",
        "                fitness = self.fitness_function(self.wolves[i])\n",
        "                if fitness < self.alpha_score:\n",
        "                    self.alpha_score = fitness\n",
        "                    self.alpha_pos = self.wolves[i].copy()\n",
        "                elif fitness < self.beta_score:\n",
        "                    self.beta_score = fitness\n",
        "                    self.beta_pos = self.wolves[i].copy()\n",
        "                elif fitness < self.delta_score:\n",
        "                    self.delta_score = fitness\n",
        "                    self.delta_pos = self.wolves[i].copy()\n",
        "\n",
        "            a = 2 - t * (2 / self.num_iterations)\n",
        "            for i in range(self.num_wolves):\n",
        "                for j in range(self.dim):\n",
        "                    r1, r2 = np.random.random(), np.random.random()\n",
        "                    A1, C1 = 2 * a * r1 - a, 2 * r2\n",
        "                    D_alpha = abs(C1 * self.alpha_pos[j] - self.wolves[i, j])\n",
        "                    X1 = self.alpha_pos[j] - A1 * D_alpha\n",
        "\n",
        "                    r1, r2 = np.random.random(), np.random.random()\n",
        "                    A2, C2 = 2 * a * r1 - a, 2 * r2\n",
        "                    D_beta = abs(C2 * self.beta_pos[j] - self.wolves[i, j])\n",
        "                    X2 = self.beta_pos[j] - A2 * D_beta\n",
        "\n",
        "                    r1, r2 = np.random.random(), np.random.random()\n",
        "                    A3, C3 = 2 * a * r1 - a, 2 * r2\n",
        "                    D_delta = abs(C3 * self.delta_pos[j] - self.wolves[i, j])\n",
        "                    X3 = self.delta_pos[j] - A3 * D_delta\n",
        "\n",
        "                    self.wolves[i, j] = np.clip((X1 + X2 + X3) / 3, self.lb[j], self.ub[j])\n",
        "\n",
        "        return self.alpha_pos, self.alpha_score"
      ],
      "metadata": {
        "id": "HuOtAJNhdvNX"
      },
      "execution_count": null,
      "outputs": []
    },
    {
      "cell_type": "code",
      "source": [
        "# Initialize and run the optimizer\n",
        "gwo = GreyWolfOptimizer(fitness_function, num_wolves=5, num_iterations=10, dim=5)\n",
        "best_params, best_score = gwo.optimize()\n",
        "\n",
        "# Extract the best parameters\n",
        "best_learning_rate, best_num_filters, best_dense_units, best_dropout_rate, best_batch_size = best_params\n",
        "\n",
        "print(\"Best Hyperparameters found by GWO:\")\n",
        "print(\"Learning Rate:\", best_learning_rate)\n",
        "print(\"Number of Filters:\", best_num_filters)\n",
        "print(\"Dense Units:\", best_dense_units)\n",
        "print(\"Dropout Rate:\", best_dropout_rate)\n",
        "print(\"Batch Size:\", best_batch_size)"
      ],
      "metadata": {
        "colab": {
          "base_uri": "https://localhost:8080/"
        },
        "id": "D3c4naR0dvQH",
        "outputId": "b88d0831-ef25-4dfb-dad2-3f4ae860881a"
      },
      "execution_count": null,
      "outputs": [
        {
          "output_type": "stream",
          "name": "stderr",
          "text": [
            "/usr/local/lib/python3.10/dist-packages/keras/src/layers/convolutional/base_conv.py:107: UserWarning: Do not pass an `input_shape`/`input_dim` argument to a layer. When using Sequential models, prefer using an `Input(shape)` object as the first layer in the model instead.\n",
            "  super().__init__(activity_regularizer=activity_regularizer, **kwargs)\n"
          ]
        },
        {
          "output_type": "stream",
          "name": "stdout",
          "text": [
            "Best Hyperparameters found by GWO:\n",
            "Learning Rate: 0.004331728454545964\n",
            "Number of Filters: 55.682031373748764\n",
            "Dense Units: 84.6380624944274\n",
            "Dropout Rate: 0.19905197328726285\n",
            "Batch Size: 70.55672539484824\n"
          ]
        }
      ]
    },
    {
      "cell_type": "code",
      "source": [
        "\n",
        "# Train and evaluate using the best hyperparameters\n",
        "model = create_model(best_learning_rate, best_num_filters, best_dense_units, best_dropout_rate)\n",
        "history = model.fit(\n",
        "    X_train, y_train,\n",
        "    epochs=50,\n",
        "    batch_size=int(best_batch_size),\n",
        "    validation_data=(X_test, y_test),\n",
        "    verbose=1\n",
        ")\n",
        "\n",
        "# Evaluate the model\n",
        "final_loss, final_accuracy = model.evaluate(X_test, y_test, verbose=1)\n",
        "print(\"Final Test Loss:\", final_loss)\n",
        "print(\"Final Test Accuracy:\", final_accuracy)"
      ],
      "metadata": {
        "colab": {
          "base_uri": "https://localhost:8080/"
        },
        "id": "58HfzgfGdvTg",
        "outputId": "89710327-7b38-4646-d76a-69042d234e93"
      },
      "execution_count": null,
      "outputs": [
        {
          "output_type": "stream",
          "name": "stdout",
          "text": [
            "Epoch 1/50\n",
            "\u001b[1m83/83\u001b[0m \u001b[32m━━━━━━━━━━━━━━━━━━━━\u001b[0m\u001b[37m\u001b[0m \u001b[1m7s\u001b[0m 61ms/step - accuracy: 0.5395 - loss: 1.9613 - val_accuracy: 0.7544 - val_loss: 0.6700\n",
            "Epoch 2/50\n",
            "\u001b[1m83/83\u001b[0m \u001b[32m━━━━━━━━━━━━━━━━━━━━\u001b[0m\u001b[37m\u001b[0m \u001b[1m1s\u001b[0m 11ms/step - accuracy: 0.8645 - loss: 0.3514 - val_accuracy: 0.8879 - val_loss: 0.3191\n",
            "Epoch 3/50\n",
            "\u001b[1m83/83\u001b[0m \u001b[32m━━━━━━━━━━━━━━━━━━━━\u001b[0m\u001b[37m\u001b[0m \u001b[1m1s\u001b[0m 9ms/step - accuracy: 0.9386 - loss: 0.1733 - val_accuracy: 0.9047 - val_loss: 0.2561\n",
            "Epoch 4/50\n",
            "\u001b[1m83/83\u001b[0m \u001b[32m━━━━━━━━━━━━━━━━━━━━\u001b[0m\u001b[37m\u001b[0m \u001b[1m1s\u001b[0m 10ms/step - accuracy: 0.9699 - loss: 0.0902 - val_accuracy: 0.9222 - val_loss: 0.2607\n",
            "Epoch 5/50\n",
            "\u001b[1m83/83\u001b[0m \u001b[32m━━━━━━━━━━━━━━━━━━━━\u001b[0m\u001b[37m\u001b[0m \u001b[1m1s\u001b[0m 9ms/step - accuracy: 0.9782 - loss: 0.0628 - val_accuracy: 0.9367 - val_loss: 0.1987\n",
            "Epoch 6/50\n",
            "\u001b[1m83/83\u001b[0m \u001b[32m━━━━━━━━━━━━━━━━━━━━\u001b[0m\u001b[37m\u001b[0m \u001b[1m1s\u001b[0m 9ms/step - accuracy: 0.9907 - loss: 0.0323 - val_accuracy: 0.9436 - val_loss: 0.1834\n",
            "Epoch 7/50\n",
            "\u001b[1m83/83\u001b[0m \u001b[32m━━━━━━━━━━━━━━━━━━━━\u001b[0m\u001b[37m\u001b[0m \u001b[1m1s\u001b[0m 9ms/step - accuracy: 0.9963 - loss: 0.0187 - val_accuracy: 0.9336 - val_loss: 0.2293\n",
            "Epoch 8/50\n",
            "\u001b[1m83/83\u001b[0m \u001b[32m━━━━━━━━━━━━━━━━━━━━\u001b[0m\u001b[37m\u001b[0m \u001b[1m1s\u001b[0m 9ms/step - accuracy: 0.9957 - loss: 0.0210 - val_accuracy: 0.9527 - val_loss: 0.1781\n",
            "Epoch 9/50\n",
            "\u001b[1m83/83\u001b[0m \u001b[32m━━━━━━━━━━━━━━━━━━━━\u001b[0m\u001b[37m\u001b[0m \u001b[1m1s\u001b[0m 10ms/step - accuracy: 0.9921 - loss: 0.0244 - val_accuracy: 0.9504 - val_loss: 0.2059\n",
            "Epoch 10/50\n",
            "\u001b[1m83/83\u001b[0m \u001b[32m━━━━━━━━━━━━━━━━━━━━\u001b[0m\u001b[37m\u001b[0m \u001b[1m1s\u001b[0m 9ms/step - accuracy: 0.9942 - loss: 0.0157 - val_accuracy: 0.9458 - val_loss: 0.1991\n",
            "Epoch 11/50\n",
            "\u001b[1m83/83\u001b[0m \u001b[32m━━━━━━━━━━━━━━━━━━━━\u001b[0m\u001b[37m\u001b[0m \u001b[1m1s\u001b[0m 10ms/step - accuracy: 0.9918 - loss: 0.0258 - val_accuracy: 0.9497 - val_loss: 0.2090\n",
            "Epoch 12/50\n",
            "\u001b[1m83/83\u001b[0m \u001b[32m━━━━━━━━━━━━━━━━━━━━\u001b[0m\u001b[37m\u001b[0m \u001b[1m1s\u001b[0m 10ms/step - accuracy: 0.9954 - loss: 0.0122 - val_accuracy: 0.9375 - val_loss: 0.2330\n",
            "Epoch 13/50\n",
            "\u001b[1m83/83\u001b[0m \u001b[32m━━━━━━━━━━━━━━━━━━━━\u001b[0m\u001b[37m\u001b[0m \u001b[1m1s\u001b[0m 10ms/step - accuracy: 0.9887 - loss: 0.0327 - val_accuracy: 0.9458 - val_loss: 0.2382\n",
            "Epoch 14/50\n",
            "\u001b[1m83/83\u001b[0m \u001b[32m━━━━━━━━━━━━━━━━━━━━\u001b[0m\u001b[37m\u001b[0m \u001b[1m1s\u001b[0m 10ms/step - accuracy: 0.9855 - loss: 0.0500 - val_accuracy: 0.9497 - val_loss: 0.2395\n",
            "Epoch 15/50\n",
            "\u001b[1m83/83\u001b[0m \u001b[32m━━━━━━━━━━━━━━━━━━━━\u001b[0m\u001b[37m\u001b[0m \u001b[1m1s\u001b[0m 9ms/step - accuracy: 0.9932 - loss: 0.0209 - val_accuracy: 0.9512 - val_loss: 0.2044\n",
            "Epoch 16/50\n",
            "\u001b[1m83/83\u001b[0m \u001b[32m━━━━━━━━━━━━━━━━━━━━\u001b[0m\u001b[37m\u001b[0m \u001b[1m1s\u001b[0m 10ms/step - accuracy: 0.9954 - loss: 0.0115 - val_accuracy: 0.9558 - val_loss: 0.2209\n",
            "Epoch 17/50\n",
            "\u001b[1m83/83\u001b[0m \u001b[32m━━━━━━━━━━━━━━━━━━━━\u001b[0m\u001b[37m\u001b[0m \u001b[1m1s\u001b[0m 9ms/step - accuracy: 0.9974 - loss: 0.0070 - val_accuracy: 0.9580 - val_loss: 0.2091\n",
            "Epoch 18/50\n",
            "\u001b[1m83/83\u001b[0m \u001b[32m━━━━━━━━━━━━━━━━━━━━\u001b[0m\u001b[37m\u001b[0m \u001b[1m1s\u001b[0m 9ms/step - accuracy: 0.9987 - loss: 0.0048 - val_accuracy: 0.9489 - val_loss: 0.2882\n",
            "Epoch 19/50\n",
            "\u001b[1m83/83\u001b[0m \u001b[32m━━━━━━━━━━━━━━━━━━━━\u001b[0m\u001b[37m\u001b[0m \u001b[1m1s\u001b[0m 9ms/step - accuracy: 0.9954 - loss: 0.0157 - val_accuracy: 0.9481 - val_loss: 0.2350\n",
            "Epoch 20/50\n",
            "\u001b[1m83/83\u001b[0m \u001b[32m━━━━━━━━━━━━━━━━━━━━\u001b[0m\u001b[37m\u001b[0m \u001b[1m1s\u001b[0m 9ms/step - accuracy: 0.9986 - loss: 0.0050 - val_accuracy: 0.9420 - val_loss: 0.3802\n",
            "Epoch 21/50\n",
            "\u001b[1m83/83\u001b[0m \u001b[32m━━━━━━━━━━━━━━━━━━━━\u001b[0m\u001b[37m\u001b[0m \u001b[1m1s\u001b[0m 9ms/step - accuracy: 0.9953 - loss: 0.0108 - val_accuracy: 0.9565 - val_loss: 0.2490\n",
            "Epoch 22/50\n",
            "\u001b[1m83/83\u001b[0m \u001b[32m━━━━━━━━━━━━━━━━━━━━\u001b[0m\u001b[37m\u001b[0m \u001b[1m1s\u001b[0m 10ms/step - accuracy: 0.9987 - loss: 0.0040 - val_accuracy: 0.9535 - val_loss: 0.2258\n",
            "Epoch 23/50\n",
            "\u001b[1m83/83\u001b[0m \u001b[32m━━━━━━━━━━━━━━━━━━━━\u001b[0m\u001b[37m\u001b[0m \u001b[1m1s\u001b[0m 9ms/step - accuracy: 0.9951 - loss: 0.0219 - val_accuracy: 0.9489 - val_loss: 0.2222\n",
            "Epoch 24/50\n",
            "\u001b[1m83/83\u001b[0m \u001b[32m━━━━━━━━━━━━━━━━━━━━\u001b[0m\u001b[37m\u001b[0m \u001b[1m1s\u001b[0m 9ms/step - accuracy: 0.9977 - loss: 0.0080 - val_accuracy: 0.9489 - val_loss: 0.2538\n",
            "Epoch 25/50\n",
            "\u001b[1m83/83\u001b[0m \u001b[32m━━━━━━━━━━━━━━━━━━━━\u001b[0m\u001b[37m\u001b[0m \u001b[1m1s\u001b[0m 9ms/step - accuracy: 0.9979 - loss: 0.0058 - val_accuracy: 0.9519 - val_loss: 0.2418\n",
            "Epoch 26/50\n",
            "\u001b[1m83/83\u001b[0m \u001b[32m━━━━━━━━━━━━━━━━━━━━\u001b[0m\u001b[37m\u001b[0m \u001b[1m1s\u001b[0m 11ms/step - accuracy: 0.9960 - loss: 0.0121 - val_accuracy: 0.9390 - val_loss: 0.2779\n",
            "Epoch 27/50\n",
            "\u001b[1m83/83\u001b[0m \u001b[32m━━━━━━━━━━━━━━━━━━━━\u001b[0m\u001b[37m\u001b[0m \u001b[1m1s\u001b[0m 11ms/step - accuracy: 0.9819 - loss: 0.0463 - val_accuracy: 0.9474 - val_loss: 0.3383\n",
            "Epoch 28/50\n",
            "\u001b[1m83/83\u001b[0m \u001b[32m━━━━━━━━━━━━━━━━━━━━\u001b[0m\u001b[37m\u001b[0m \u001b[1m1s\u001b[0m 11ms/step - accuracy: 0.9889 - loss: 0.0339 - val_accuracy: 0.9420 - val_loss: 0.2627\n",
            "Epoch 29/50\n",
            "\u001b[1m83/83\u001b[0m \u001b[32m━━━━━━━━━━━━━━━━━━━━\u001b[0m\u001b[37m\u001b[0m \u001b[1m1s\u001b[0m 10ms/step - accuracy: 0.9910 - loss: 0.0275 - val_accuracy: 0.9413 - val_loss: 0.3048\n",
            "Epoch 30/50\n",
            "\u001b[1m83/83\u001b[0m \u001b[32m━━━━━━━━━━━━━━━━━━━━\u001b[0m\u001b[37m\u001b[0m \u001b[1m1s\u001b[0m 9ms/step - accuracy: 0.9933 - loss: 0.0209 - val_accuracy: 0.9588 - val_loss: 0.2232\n",
            "Epoch 31/50\n",
            "\u001b[1m83/83\u001b[0m \u001b[32m━━━━━━━━━━━━━━━━━━━━\u001b[0m\u001b[37m\u001b[0m \u001b[1m1s\u001b[0m 9ms/step - accuracy: 0.9951 - loss: 0.0159 - val_accuracy: 0.9565 - val_loss: 0.2067\n",
            "Epoch 32/50\n",
            "\u001b[1m83/83\u001b[0m \u001b[32m━━━━━━━━━━━━━━━━━━━━\u001b[0m\u001b[37m\u001b[0m \u001b[1m1s\u001b[0m 9ms/step - accuracy: 0.9965 - loss: 0.0098 - val_accuracy: 0.9466 - val_loss: 0.2902\n",
            "Epoch 33/50\n",
            "\u001b[1m83/83\u001b[0m \u001b[32m━━━━━━━━━━━━━━━━━━━━\u001b[0m\u001b[37m\u001b[0m \u001b[1m1s\u001b[0m 9ms/step - accuracy: 0.9981 - loss: 0.0051 - val_accuracy: 0.9558 - val_loss: 0.2597\n",
            "Epoch 34/50\n",
            "\u001b[1m83/83\u001b[0m \u001b[32m━━━━━━━━━━━━━━━━━━━━\u001b[0m\u001b[37m\u001b[0m \u001b[1m1s\u001b[0m 9ms/step - accuracy: 0.9983 - loss: 0.0078 - val_accuracy: 0.9626 - val_loss: 0.2419\n",
            "Epoch 35/50\n",
            "\u001b[1m83/83\u001b[0m \u001b[32m━━━━━━━━━━━━━━━━━━━━\u001b[0m\u001b[37m\u001b[0m \u001b[1m1s\u001b[0m 9ms/step - accuracy: 0.9995 - loss: 0.0016 - val_accuracy: 0.9565 - val_loss: 0.3019\n",
            "Epoch 36/50\n",
            "\u001b[1m83/83\u001b[0m \u001b[32m━━━━━━━━━━━━━━━━━━━━\u001b[0m\u001b[37m\u001b[0m \u001b[1m1s\u001b[0m 9ms/step - accuracy: 0.9989 - loss: 0.0027 - val_accuracy: 0.9519 - val_loss: 0.3691\n",
            "Epoch 37/50\n",
            "\u001b[1m83/83\u001b[0m \u001b[32m━━━━━━━━━━━━━━━━━━━━\u001b[0m\u001b[37m\u001b[0m \u001b[1m1s\u001b[0m 9ms/step - accuracy: 0.9979 - loss: 0.0112 - val_accuracy: 0.9497 - val_loss: 0.2752\n",
            "Epoch 38/50\n",
            "\u001b[1m83/83\u001b[0m \u001b[32m━━━━━━━━━━━━━━━━━━━━\u001b[0m\u001b[37m\u001b[0m \u001b[1m1s\u001b[0m 10ms/step - accuracy: 0.9909 - loss: 0.0287 - val_accuracy: 0.9321 - val_loss: 0.4578\n",
            "Epoch 39/50\n",
            "\u001b[1m83/83\u001b[0m \u001b[32m━━━━━━━━━━━━━━━━━━━━\u001b[0m\u001b[37m\u001b[0m \u001b[1m1s\u001b[0m 11ms/step - accuracy: 0.9904 - loss: 0.0340 - val_accuracy: 0.9512 - val_loss: 0.2478\n",
            "Epoch 40/50\n",
            "\u001b[1m83/83\u001b[0m \u001b[32m━━━━━━━━━━━━━━━━━━━━\u001b[0m\u001b[37m\u001b[0m \u001b[1m1s\u001b[0m 11ms/step - accuracy: 0.9947 - loss: 0.0170 - val_accuracy: 0.9573 - val_loss: 0.2374\n",
            "Epoch 41/50\n",
            "\u001b[1m83/83\u001b[0m \u001b[32m━━━━━━━━━━━━━━━━━━━━\u001b[0m\u001b[37m\u001b[0m \u001b[1m1s\u001b[0m 11ms/step - accuracy: 0.9978 - loss: 0.0088 - val_accuracy: 0.9512 - val_loss: 0.2814\n",
            "Epoch 42/50\n",
            "\u001b[1m83/83\u001b[0m \u001b[32m━━━━━━━━━━━━━━━━━━━━\u001b[0m\u001b[37m\u001b[0m \u001b[1m1s\u001b[0m 9ms/step - accuracy: 0.9975 - loss: 0.0066 - val_accuracy: 0.9527 - val_loss: 0.3221\n",
            "Epoch 43/50\n",
            "\u001b[1m83/83\u001b[0m \u001b[32m━━━━━━━━━━━━━━━━━━━━\u001b[0m\u001b[37m\u001b[0m \u001b[1m1s\u001b[0m 9ms/step - accuracy: 0.9967 - loss: 0.0133 - val_accuracy: 0.9535 - val_loss: 0.2771\n",
            "Epoch 44/50\n",
            "\u001b[1m83/83\u001b[0m \u001b[32m━━━━━━━━━━━━━━━━━━━━\u001b[0m\u001b[37m\u001b[0m \u001b[1m1s\u001b[0m 9ms/step - accuracy: 0.9951 - loss: 0.0127 - val_accuracy: 0.9558 - val_loss: 0.3579\n",
            "Epoch 45/50\n",
            "\u001b[1m83/83\u001b[0m \u001b[32m━━━━━━━━━━━━━━━━━━━━\u001b[0m\u001b[37m\u001b[0m \u001b[1m1s\u001b[0m 10ms/step - accuracy: 0.9963 - loss: 0.0080 - val_accuracy: 0.9382 - val_loss: 0.4014\n",
            "Epoch 46/50\n",
            "\u001b[1m83/83\u001b[0m \u001b[32m━━━━━━━━━━━━━━━━━━━━\u001b[0m\u001b[37m\u001b[0m \u001b[1m1s\u001b[0m 9ms/step - accuracy: 0.9938 - loss: 0.0181 - val_accuracy: 0.9489 - val_loss: 0.4058\n",
            "Epoch 47/50\n",
            "\u001b[1m83/83\u001b[0m \u001b[32m━━━━━━━━━━━━━━━━━━━━\u001b[0m\u001b[37m\u001b[0m \u001b[1m1s\u001b[0m 9ms/step - accuracy: 0.9945 - loss: 0.0223 - val_accuracy: 0.9519 - val_loss: 0.3288\n",
            "Epoch 48/50\n",
            "\u001b[1m83/83\u001b[0m \u001b[32m━━━━━━━━━━━━━━━━━━━━\u001b[0m\u001b[37m\u001b[0m \u001b[1m1s\u001b[0m 9ms/step - accuracy: 0.9973 - loss: 0.0120 - val_accuracy: 0.9588 - val_loss: 0.2969\n",
            "Epoch 49/50\n",
            "\u001b[1m83/83\u001b[0m \u001b[32m━━━━━━━━━━━━━━━━━━━━\u001b[0m\u001b[37m\u001b[0m \u001b[1m1s\u001b[0m 9ms/step - accuracy: 0.9988 - loss: 0.0042 - val_accuracy: 0.9558 - val_loss: 0.3253\n",
            "Epoch 50/50\n",
            "\u001b[1m83/83\u001b[0m \u001b[32m━━━━━━━━━━━━━━━━━━━━\u001b[0m\u001b[37m\u001b[0m \u001b[1m1s\u001b[0m 9ms/step - accuracy: 0.9997 - loss: 0.0017 - val_accuracy: 0.9550 - val_loss: 0.3152\n",
            "\u001b[1m41/41\u001b[0m \u001b[32m━━━━━━━━━━━━━━━━━━━━\u001b[0m\u001b[37m\u001b[0m \u001b[1m1s\u001b[0m 14ms/step - accuracy: 0.9378 - loss: 0.4474\n",
            "Final Test Loss: 0.31522685289382935\n",
            "Final Test Accuracy: 0.9549961686134338\n"
          ]
        }
      ]
    },
    {
      "cell_type": "code",
      "source": [],
      "metadata": {
        "id": "kq6WGC3tdvW3"
      },
      "execution_count": null,
      "outputs": []
    },
    {
      "cell_type": "code",
      "source": [
        "import cv2\n",
        "import numpy as np\n",
        "from keras.models import load_model\n",
        "\n",
        "class_names = ['glioma', 'meningioma', 'no tumor', 'pituitary']\n",
        "\n",
        "def preprocess_image(image_path):\n",
        "    # Load the image using OpenCV\n",
        "    img = cv2.imread(image_path)\n",
        "    # Resize the image to match the input size of your model\n",
        "    img = cv2.resize(img, (64, 64))  # Adjust size according to your model's input shape\n",
        "    # Preprocess the image: normalize pixel values\n",
        "    img = img.astype('float32') / 255.0\n",
        "    # Expand dimensions to match the batch size used by your model\n",
        "    img = np.expand_dims(img, axis=0)\n",
        "    return img\n",
        "\n",
        "def predict_tumor_type(image_path):\n",
        "    # Preprocess the image\n",
        "    img = preprocess_image(image_path)\n",
        "    # Predict tumor type using your model\n",
        "    predictions = model.predict(img)\n",
        "    # Get the predicted class index\n",
        "    predicted_class_index = np.argmax(predictions, axis=1)[0]\n",
        "    # Map the index to the class name\n",
        "    predicted_class = class_names[predicted_class_index]\n",
        "    return predicted_class\n",
        "\n",
        "\n",
        "image_path = '/content/drive/MyDrive/project file/archive (6)/Testing/notumor/Te-no_0013.jpg'\n",
        "predicted_tumor_type = predict_tumor_type(image_path)\n",
        "print('Predicted tumor type:', predicted_tumor_type)\n"
      ],
      "metadata": {
        "id": "8rYm-wENb07B",
        "colab": {
          "base_uri": "https://localhost:8080/"
        },
        "outputId": "d0a5ed90-c2c9-411b-e933-4dc25def5764"
      },
      "execution_count": null,
      "outputs": [
        {
          "output_type": "stream",
          "name": "stdout",
          "text": [
            "\u001b[1m1/1\u001b[0m \u001b[32m━━━━━━━━━━━━━━━━━━━━\u001b[0m\u001b[37m\u001b[0m \u001b[1m1s\u001b[0m 504ms/step\n",
            "Predicted tumor type: no tumor\n"
          ]
        }
      ]
    },
    {
      "cell_type": "code",
      "source": [
        "import cv2\n",
        "import numpy as np\n",
        "from keras.models import load_model\n",
        "\n",
        "class_names = ['glioma', 'meningioma', 'no tumor', 'pituitary']\n",
        "\n",
        "def preprocess_image(image_path):\n",
        "    # Load the image using OpenCV\n",
        "    img = cv2.imread(image_path)\n",
        "    # Resize the image to match the input size of your model\n",
        "    img = cv2.resize(img, (64, 64))\n",
        "    # Preprocess the image: normalize pixel values\n",
        "    img = img.astype('float32') / 255.0\n",
        "    # Expand dimensions to match the batch size used by your model\n",
        "    img = np.expand_dims(img, axis=0)\n",
        "    return img\n",
        "\n",
        "def predict_tumor_type(image_path):\n",
        "    # Preprocess the image\n",
        "    img = preprocess_image(image_path)\n",
        "    # Predict tumor type using your model\n",
        "    predictions = model.predict(img)\n",
        "    # Get the predicted class index\n",
        "    predicted_class_index = np.argmax(predictions, axis=1)[0]\n",
        "    # Map the index to the class name\n",
        "    predicted_class = class_names[predicted_class_index]\n",
        "    return predicted_class\n",
        "\n",
        "\n",
        "image_path = '/content/drive/MyDrive/project file/archive (6)/Testing/meningioma/Te-meTr_0004.jpg'\n",
        "predicted_tumor_type = predict_tumor_type(image_path)\n",
        "print('Predicted tumor type:', predicted_tumor_type)\n"
      ],
      "metadata": {
        "colab": {
          "base_uri": "https://localhost:8080/"
        },
        "id": "nUSIpWpoaIlJ",
        "outputId": "e4f92ae7-f536-4760-8535-b854c6032155"
      },
      "execution_count": null,
      "outputs": [
        {
          "output_type": "stream",
          "name": "stdout",
          "text": [
            "\u001b[1m1/1\u001b[0m \u001b[32m━━━━━━━━━━━━━━━━━━━━\u001b[0m\u001b[37m\u001b[0m \u001b[1m0s\u001b[0m 16ms/step\n",
            "Predicted tumor type: meningioma\n"
          ]
        }
      ]
    }
  ],
  "metadata": {
    "accelerator": "GPU",
    "colab": {
      "gpuType": "T4",
      "provenance": []
    },
    "kernelspec": {
      "display_name": "Python 3",
      "name": "python3"
    },
    "language_info": {
      "name": "python"
    }
  },
  "nbformat": 4,
  "nbformat_minor": 0
}